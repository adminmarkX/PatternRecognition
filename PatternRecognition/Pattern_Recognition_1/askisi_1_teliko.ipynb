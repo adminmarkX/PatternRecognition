{
 "cells": [
  {
   "cell_type": "markdown",
   "id": "42ca8baf",
   "metadata": {},
   "source": [
    "<h2>PATTERN RECOGNITION ASSIGNMENT 1 2021-2022</h2>\n"
   ]
  },
  {
   "cell_type": "markdown",
   "id": "4831f18a",
   "metadata": {},
   "source": [
    "<p> At the following paragraph we will upload the packages that we will use\n",
    "during this assignment</p>"
   ]
  },
  {
   "cell_type": "code",
   "execution_count": 84,
   "id": "2a83a590",
   "metadata": {},
   "outputs": [],
   "source": [
    "import matplotlib.pyplot as plt\n",
    "from sklearn import datasets\n",
    "import pandas as pd\n",
    "import numpy as np\n",
    "import statistics as st"
   ]
  },
  {
   "cell_type": "code",
   "execution_count": 93,
   "id": "c787e1b8",
   "metadata": {},
   "outputs": [
    {
     "name": "stdout",
     "output_type": "stream",
     "text": [
      "(178, 14)\n"
     ]
    },
    {
     "data": {
      "text/html": [
       "<div>\n",
       "<style scoped>\n",
       "    .dataframe tbody tr th:only-of-type {\n",
       "        vertical-align: middle;\n",
       "    }\n",
       "\n",
       "    .dataframe tbody tr th {\n",
       "        vertical-align: top;\n",
       "    }\n",
       "\n",
       "    .dataframe thead th {\n",
       "        text-align: right;\n",
       "    }\n",
       "</style>\n",
       "<table border=\"1\" class=\"dataframe\">\n",
       "  <thead>\n",
       "    <tr style=\"text-align: right;\">\n",
       "      <th></th>\n",
       "      <th>Category</th>\n",
       "      <th>Alcohol</th>\n",
       "      <th>Malic acid</th>\n",
       "      <th>Ash</th>\n",
       "      <th>Alcalinity of ash</th>\n",
       "      <th>Magnesium</th>\n",
       "      <th>Total phenols</th>\n",
       "      <th>Flavanoids</th>\n",
       "      <th>Nonflavanoid phenols</th>\n",
       "      <th>Proanthocyanins</th>\n",
       "      <th>Color intensity</th>\n",
       "      <th>Hue</th>\n",
       "      <th>OD280/OD315 of diluted wines</th>\n",
       "      <th>Proline</th>\n",
       "    </tr>\n",
       "  </thead>\n",
       "  <tbody>\n",
       "    <tr>\n",
       "      <th>0</th>\n",
       "      <td>1</td>\n",
       "      <td>14.23</td>\n",
       "      <td>1.71</td>\n",
       "      <td>2.43</td>\n",
       "      <td>15.6</td>\n",
       "      <td>127</td>\n",
       "      <td>2.80</td>\n",
       "      <td>3.06</td>\n",
       "      <td>0.28</td>\n",
       "      <td>2.29</td>\n",
       "      <td>5.64</td>\n",
       "      <td>1.04</td>\n",
       "      <td>3.92</td>\n",
       "      <td>1065</td>\n",
       "    </tr>\n",
       "    <tr>\n",
       "      <th>1</th>\n",
       "      <td>1</td>\n",
       "      <td>13.20</td>\n",
       "      <td>1.78</td>\n",
       "      <td>2.14</td>\n",
       "      <td>11.2</td>\n",
       "      <td>100</td>\n",
       "      <td>2.65</td>\n",
       "      <td>2.76</td>\n",
       "      <td>0.26</td>\n",
       "      <td>1.28</td>\n",
       "      <td>4.38</td>\n",
       "      <td>1.05</td>\n",
       "      <td>3.40</td>\n",
       "      <td>1050</td>\n",
       "    </tr>\n",
       "    <tr>\n",
       "      <th>2</th>\n",
       "      <td>1</td>\n",
       "      <td>13.16</td>\n",
       "      <td>2.36</td>\n",
       "      <td>2.67</td>\n",
       "      <td>18.6</td>\n",
       "      <td>101</td>\n",
       "      <td>2.80</td>\n",
       "      <td>3.24</td>\n",
       "      <td>0.30</td>\n",
       "      <td>2.81</td>\n",
       "      <td>5.68</td>\n",
       "      <td>1.03</td>\n",
       "      <td>3.17</td>\n",
       "      <td>1185</td>\n",
       "    </tr>\n",
       "    <tr>\n",
       "      <th>3</th>\n",
       "      <td>1</td>\n",
       "      <td>14.37</td>\n",
       "      <td>1.95</td>\n",
       "      <td>2.50</td>\n",
       "      <td>16.8</td>\n",
       "      <td>113</td>\n",
       "      <td>3.85</td>\n",
       "      <td>3.49</td>\n",
       "      <td>0.24</td>\n",
       "      <td>2.18</td>\n",
       "      <td>7.80</td>\n",
       "      <td>0.86</td>\n",
       "      <td>3.45</td>\n",
       "      <td>1480</td>\n",
       "    </tr>\n",
       "    <tr>\n",
       "      <th>4</th>\n",
       "      <td>1</td>\n",
       "      <td>13.24</td>\n",
       "      <td>2.59</td>\n",
       "      <td>2.87</td>\n",
       "      <td>21.0</td>\n",
       "      <td>118</td>\n",
       "      <td>2.80</td>\n",
       "      <td>2.69</td>\n",
       "      <td>0.39</td>\n",
       "      <td>1.82</td>\n",
       "      <td>4.32</td>\n",
       "      <td>1.04</td>\n",
       "      <td>2.93</td>\n",
       "      <td>735</td>\n",
       "    </tr>\n",
       "    <tr>\n",
       "      <th>...</th>\n",
       "      <td>...</td>\n",
       "      <td>...</td>\n",
       "      <td>...</td>\n",
       "      <td>...</td>\n",
       "      <td>...</td>\n",
       "      <td>...</td>\n",
       "      <td>...</td>\n",
       "      <td>...</td>\n",
       "      <td>...</td>\n",
       "      <td>...</td>\n",
       "      <td>...</td>\n",
       "      <td>...</td>\n",
       "      <td>...</td>\n",
       "      <td>...</td>\n",
       "    </tr>\n",
       "    <tr>\n",
       "      <th>173</th>\n",
       "      <td>3</td>\n",
       "      <td>13.71</td>\n",
       "      <td>5.65</td>\n",
       "      <td>2.45</td>\n",
       "      <td>20.5</td>\n",
       "      <td>95</td>\n",
       "      <td>1.68</td>\n",
       "      <td>0.61</td>\n",
       "      <td>0.52</td>\n",
       "      <td>1.06</td>\n",
       "      <td>7.70</td>\n",
       "      <td>0.64</td>\n",
       "      <td>1.74</td>\n",
       "      <td>740</td>\n",
       "    </tr>\n",
       "    <tr>\n",
       "      <th>174</th>\n",
       "      <td>3</td>\n",
       "      <td>13.40</td>\n",
       "      <td>3.91</td>\n",
       "      <td>2.48</td>\n",
       "      <td>23.0</td>\n",
       "      <td>102</td>\n",
       "      <td>1.80</td>\n",
       "      <td>0.75</td>\n",
       "      <td>0.43</td>\n",
       "      <td>1.41</td>\n",
       "      <td>7.30</td>\n",
       "      <td>0.70</td>\n",
       "      <td>1.56</td>\n",
       "      <td>750</td>\n",
       "    </tr>\n",
       "    <tr>\n",
       "      <th>175</th>\n",
       "      <td>3</td>\n",
       "      <td>13.27</td>\n",
       "      <td>4.28</td>\n",
       "      <td>2.26</td>\n",
       "      <td>20.0</td>\n",
       "      <td>120</td>\n",
       "      <td>1.59</td>\n",
       "      <td>0.69</td>\n",
       "      <td>0.43</td>\n",
       "      <td>1.35</td>\n",
       "      <td>10.20</td>\n",
       "      <td>0.59</td>\n",
       "      <td>1.56</td>\n",
       "      <td>835</td>\n",
       "    </tr>\n",
       "    <tr>\n",
       "      <th>176</th>\n",
       "      <td>3</td>\n",
       "      <td>13.17</td>\n",
       "      <td>2.59</td>\n",
       "      <td>2.37</td>\n",
       "      <td>20.0</td>\n",
       "      <td>120</td>\n",
       "      <td>1.65</td>\n",
       "      <td>0.68</td>\n",
       "      <td>0.53</td>\n",
       "      <td>1.46</td>\n",
       "      <td>9.30</td>\n",
       "      <td>0.60</td>\n",
       "      <td>1.62</td>\n",
       "      <td>840</td>\n",
       "    </tr>\n",
       "    <tr>\n",
       "      <th>177</th>\n",
       "      <td>3</td>\n",
       "      <td>14.13</td>\n",
       "      <td>4.10</td>\n",
       "      <td>2.74</td>\n",
       "      <td>24.5</td>\n",
       "      <td>96</td>\n",
       "      <td>2.05</td>\n",
       "      <td>0.76</td>\n",
       "      <td>0.56</td>\n",
       "      <td>1.35</td>\n",
       "      <td>9.20</td>\n",
       "      <td>0.61</td>\n",
       "      <td>1.60</td>\n",
       "      <td>560</td>\n",
       "    </tr>\n",
       "  </tbody>\n",
       "</table>\n",
       "<p>178 rows × 14 columns</p>\n",
       "</div>"
      ],
      "text/plain": [
       "     Category  Alcohol  Malic acid   Ash  Alcalinity of ash  Magnesium  \\\n",
       "0           1    14.23        1.71  2.43               15.6        127   \n",
       "1           1    13.20        1.78  2.14               11.2        100   \n",
       "2           1    13.16        2.36  2.67               18.6        101   \n",
       "3           1    14.37        1.95  2.50               16.8        113   \n",
       "4           1    13.24        2.59  2.87               21.0        118   \n",
       "..        ...      ...         ...   ...                ...        ...   \n",
       "173         3    13.71        5.65  2.45               20.5         95   \n",
       "174         3    13.40        3.91  2.48               23.0        102   \n",
       "175         3    13.27        4.28  2.26               20.0        120   \n",
       "176         3    13.17        2.59  2.37               20.0        120   \n",
       "177         3    14.13        4.10  2.74               24.5         96   \n",
       "\n",
       "     Total phenols  Flavanoids  Nonflavanoid phenols  Proanthocyanins  \\\n",
       "0             2.80        3.06                  0.28             2.29   \n",
       "1             2.65        2.76                  0.26             1.28   \n",
       "2             2.80        3.24                  0.30             2.81   \n",
       "3             3.85        3.49                  0.24             2.18   \n",
       "4             2.80        2.69                  0.39             1.82   \n",
       "..             ...         ...                   ...              ...   \n",
       "173           1.68        0.61                  0.52             1.06   \n",
       "174           1.80        0.75                  0.43             1.41   \n",
       "175           1.59        0.69                  0.43             1.35   \n",
       "176           1.65        0.68                  0.53             1.46   \n",
       "177           2.05        0.76                  0.56             1.35   \n",
       "\n",
       "     Color intensity   Hue  OD280/OD315 of diluted wines  Proline  \n",
       "0               5.64  1.04                          3.92     1065  \n",
       "1               4.38  1.05                          3.40     1050  \n",
       "2               5.68  1.03                          3.17     1185  \n",
       "3               7.80  0.86                          3.45     1480  \n",
       "4               4.32  1.04                          2.93      735  \n",
       "..               ...   ...                           ...      ...  \n",
       "173             7.70  0.64                          1.74      740  \n",
       "174             7.30  0.70                          1.56      750  \n",
       "175            10.20  0.59                          1.56      835  \n",
       "176             9.30  0.60                          1.62      840  \n",
       "177             9.20  0.61                          1.60      560  \n",
       "\n",
       "[178 rows x 14 columns]"
      ]
     },
     "execution_count": 93,
     "metadata": {},
     "output_type": "execute_result"
    }
   ],
   "source": [
    "#load dataset\n",
    "\n",
    "wine = pd.read_csv('wine.csv')\n",
    "print(wine.shape)\n",
    "wine.head(178)"
   ]
  },
  {
   "cell_type": "markdown",
   "id": "a2b1afbd",
   "metadata": {},
   "source": [
    "<p> So in this case the datas\n",
    "    et is an 178 Row's by 14\n",
    "    Columns Matrix"
   ]
  },
  {
   "cell_type": "code",
   "execution_count": 73,
   "id": "3bdf377f",
   "metadata": {},
   "outputs": [],
   "source": [
    "cat1_data = wine[0:59] # parounme ta dedomena apo tin katigoria 1\n",
    "cat2_data = wine[60:130] # parounme ta dedomena apo tin katigoria 2\n",
    "cat3_data = wine[131:178] # parounme ta dedomena apo tin katigoria 3\n",
    "\n",
    "alcohol_1 = cat1_data['Alcohol']\n",
    "malic_acid_1 = cat1_data['Malic acid']\n",
    "ash_1 = cat1_data['Ash']\n",
    "alcalinity_of_ash_1 = cat1_data['Alcalinity of ash']\n",
    "\n",
    "alcohol_2 = cat2_data['Alcohol']\n",
    "malic_acid_2 = cat2_data['Malic acid']\n",
    "ash_2 = cat2_data['Ash']\n",
    "alcalinity_of_ash_2 = cat2_data['Alcalinity of ash']\n",
    "\n",
    "alcohol_3 = cat3_data['Alcohol']\n",
    "malic_acid_3 = cat3_data['Malic acid']\n",
    "ash_3 = cat3_data['Ash']\n",
    "alcalinity_of_ash_3 = cat3_data['Alcalinity of ash']"
   ]
  },
  {
   "cell_type": "markdown",
   "id": "29e8b2a6",
   "metadata": {},
   "source": [
    "<h1>Now lets go for Alcohol values</h1>\n"
   ]
  },
  {
   "cell_type": "markdown",
   "id": "fd657ac7",
   "metadata": {},
   "source": [
    "<h3> Category 1 </h3>"
   ]
  },
  {
   "cell_type": "code",
   "execution_count": 106,
   "id": "371636e6",
   "metadata": {},
   "outputs": [
    {
     "name": "stdout",
     "output_type": "stream",
     "text": [
      "The minimum Value of Alchohol is 12.85\n",
      "The maximum Value of Alchohol is 14.83\n",
      "The range of min and max value(s) of Alchohol is 1.9800000000000004\n",
      "The Mean values of Alchohol is 13.744745762711865\n",
      "The Median values of Alchohol is 13.75\n",
      "The Standard Deviation value of Alchohol is 0.4581923063525723\n",
      "The Dispersion or Variance value of Alchohol is 0.20994018960068944\n"
     ]
    }
   ],
   "source": [
    "print(\"The minimum Value of Alchohol is\",np.min(alcohol_1))\n",
    "print(\"The maximum Value of Alchohol is\",np.max(alcohol_1))\n",
    "print(\"The range of min and max value(s) of Alchohol is\",np.max(alcohol_1)- np.min(alcohol_1))\n",
    "print(\"The Mean values of Alchohol is\",st.mean(alcohol_1))\n",
    "print(\"The Median values of Alchohol is\",st.median(alcohol_1))\n",
    "print(\"The Standard Deviation value of Alchohol is\",np.std(alcohol_1))\n",
    "print(\"The Dispersion or Variance value of Alchohol is\",np.var(alcohol_1))"
   ]
  },
  {
   "cell_type": "markdown",
   "id": "9d515288",
   "metadata": {},
   "source": [
    "<p> We could calculate the mean value by adding all the values and divide the sum of the values with the multitude of the values ex. (n1 + n2 + n3 + n4 + n5 + n6 + ... + n59 + n60 )/ 60 </p>"
   ]
  },
  {
   "cell_type": "markdown",
   "id": "71d1e074",
   "metadata": {},
   "source": [
    "<p> For simplicity reasons we used mean function from the statistics library </p>"
   ]
  },
  {
   "cell_type": "code",
   "execution_count": 94,
   "id": "c9c84df0",
   "metadata": {},
   "outputs": [
    {
     "data": {
      "text/plain": [
       "{'whiskers': [<matplotlib.lines.Line2D at 0x2290d28e2e0>,\n",
       "  <matplotlib.lines.Line2D at 0x2290d28e670>],\n",
       " 'caps': [<matplotlib.lines.Line2D at 0x2290d28ea00>,\n",
       "  <matplotlib.lines.Line2D at 0x2290d28ed90>],\n",
       " 'boxes': [<matplotlib.lines.Line2D at 0x2290d281f10>],\n",
       " 'medians': [<matplotlib.lines.Line2D at 0x2290d29a160>],\n",
       " 'fliers': [<matplotlib.lines.Line2D at 0x2290d29a4f0>],\n",
       " 'means': []}"
      ]
     },
     "execution_count": 94,
     "metadata": {},
     "output_type": "execute_result"
    },
    {
     "data": {
      "image/png": "[encoded data removed]",
      "text/plain": [
       "<Figure size 432x288 with 1 Axes>"
      ]
     },
     "metadata": {
      "needs_background": "light"
     },
     "output_type": "display_data"
    }
   ],
   "source": [
    "fig1,ax1 = plt.subplots()\n",
    "ax1.set_title('Category 1 Alcohol Boxplot')\n",
    "ax1.boxplot(alcohol_1)"
   ]
  },
  {
   "cell_type": "markdown",
   "id": "8ed70e75",
   "metadata": {},
   "source": [
    "<h3> Category 1 </h3>"
   ]
  },
  {
   "cell_type": "code",
   "execution_count": 89,
   "id": "5d79ad7b",
   "metadata": {},
   "outputs": [
    {
     "name": "stdout",
     "output_type": "stream",
     "text": [
      "The minimum Value of Alchohol is 11.03\n",
      "The maximum Value of Alchohol is 13.86\n",
      "The range of min and max value(s) of Alchohol is 2.83\n",
      "The Mean values of Alchohol is 12.27742857142857\n",
      "The Median values of Alchohol is 12.29\n",
      "The Standard Deviation value of Alchohol is 0.5378520394369911\n",
      "The Dispersion or Variance value of Alchohol is 0.28928481632653064\n"
     ]
    }
   ],
   "source": [
    "print(\"The minimum Value of Alchohol is\",np.min(alcohol_2))\n",
    "print(\"The maximum Value of Alchohol is\",np.max(alcohol_2))\n",
    "print(\"The range of min and max value(s) of Alchohol is\",np.max(alcohol_2)- np.min(alcohol_2))\n",
    "print(\"The Mean values of Alchohol is\",st.mean(alcohol_2))\n",
    "print(\"The Median values of Alchohol is\",st.median(alcohol_2))\n",
    "print(\"The Standard Deviation value of Alchohol is\",np.std(alcohol_2))\n",
    "print(\"The Dispersion or Variance value of Alchohol is\",np.var(alcohol_2))"
   ]
  },
  {
   "cell_type": "markdown",
   "id": "bcbc352b",
   "metadata": {},
   "source": [
    "<p> The boxplot Alcohol of Category 2 </p>"
   ]
  },
  {
   "cell_type": "code",
   "execution_count": 95,
   "id": "6187ae2e",
   "metadata": {},
   "outputs": [
    {
     "data": {
      "text/plain": [
       "{'whiskers': [<matplotlib.lines.Line2D at 0x2290d2e5910>,\n",
       "  <matplotlib.lines.Line2D at 0x2290d2e5ca0>],\n",
       " 'caps': [<matplotlib.lines.Line2D at 0x2290d2f3070>,\n",
       "  <matplotlib.lines.Line2D at 0x2290d2f3400>],\n",
       " 'boxes': [<matplotlib.lines.Line2D at 0x2290d2e5580>],\n",
       " 'medians': [<matplotlib.lines.Line2D at 0x2290d2f3790>],\n",
       " 'fliers': [<matplotlib.lines.Line2D at 0x2290d2f3b20>],\n",
       " 'means': []}"
      ]
     },
     "execution_count": 95,
     "metadata": {},
     "output_type": "execute_result"
    },
    {
     "data": {
      "image/png": "[encoded data removed]",
      "text/plain": [
       "<Figure size 432x288 with 1 Axes>"
      ]
     },
     "metadata": {
      "needs_background": "light"
     },
     "output_type": "display_data"
    }
   ],
   "source": [
    "fig1,ax1 = plt.subplots()\n",
    "ax1.set_title('Category 2 Alcohol Boxplot')\n",
    "ax1.boxplot(alcohol_2)"
   ]
  },
  {
   "cell_type": "markdown",
   "id": "4199410b",
   "metadata": {},
   "source": [
    "<h3> Category 3 </h3>"
   ]
  },
  {
   "cell_type": "code",
   "execution_count": 91,
   "id": "778e427f",
   "metadata": {},
   "outputs": [
    {
     "name": "stdout",
     "output_type": "stream",
     "text": [
      "The minimum Value of Alchohol is 12.2\n",
      "The maximum Value of Alchohol is 14.34\n",
      "The range of min and max value(s) of Alchohol is 2.1400000000000006\n",
      "The Mean values of Alchohol is 13.16\n",
      "The Median values of Alchohol is 13.17\n",
      "The Standard Deviation value of Alchohol is 0.5284702934544476\n",
      "The Dispersion or Variance value of Alchohol is 0.27928085106382994\n"
     ]
    }
   ],
   "source": [
    "print(\"The minimum Value of Alchohol is\",np.min(alcohol_3))\n",
    "print(\"The maximum Value of Alchohol is\",np.max(alcohol_3))\n",
    "print(\"The range of min and max value(s) of Alchohol is\",np.max(alcohol_3)- np.min(alcohol_3))\n",
    "print(\"The Mean values of Alchohol is\",st.mean(alcohol_3))\n",
    "print(\"The Median values of Alchohol is\",st.median(alcohol_3))\n",
    "print(\"The Standard Deviation value of Alchohol is\",np.std(alcohol_3))\n",
    "print(\"The Dispersion or Variance value of Alchohol is\",np.var(alcohol_3))"
   ]
  },
  {
   "cell_type": "code",
   "execution_count": 98,
   "id": "d84c790b",
   "metadata": {},
   "outputs": [
    {
     "data": {
      "text/plain": [
       "{'whiskers': [<matplotlib.lines.Line2D at 0x2290d3af7f0>,\n",
       "  <matplotlib.lines.Line2D at 0x2290d3afb80>],\n",
       " 'caps': [<matplotlib.lines.Line2D at 0x2290d3aff10>,\n",
       "  <matplotlib.lines.Line2D at 0x2290d3bb2e0>],\n",
       " 'boxes': [<matplotlib.lines.Line2D at 0x2290d3af4c0>],\n",
       " 'medians': [<matplotlib.lines.Line2D at 0x2290d3bb670>],\n",
       " 'fliers': [<matplotlib.lines.Line2D at 0x2290d3bba00>],\n",
       " 'means': []}"
      ]
     },
     "execution_count": 98,
     "metadata": {},
     "output_type": "execute_result"
    },
    {
     "data": {
      "image/png": "[encoded data removed]",
      "text/plain": [
       "<Figure size 432x288 with 1 Axes>"
      ]
     },
     "metadata": {
      "needs_background": "light"
     },
     "output_type": "display_data"
    }
   ],
   "source": [
    "fig1,ax1 = plt.subplots()\n",
    "ax1.set_title('Category 3 Alcohol Boxplot')\n",
    "ax1.boxplot(alcohol_3)"
   ]
  },
  {
   "cell_type": "markdown",
   "id": "e56bed7a",
   "metadata": {},
   "source": [
    "<h1>Now lets go to do the same for Malic Acid </h1>"
   ]
  },
  {
   "cell_type": "markdown",
   "id": "36687409",
   "metadata": {},
   "source": [
    "<h3> Category 1 </h3>"
   ]
  },
  {
   "cell_type": "code",
   "execution_count": 100,
   "id": "6b1d2079",
   "metadata": {},
   "outputs": [
    {
     "name": "stdout",
     "output_type": "stream",
     "text": [
      "The minimum Value of Malic acid is 1.35\n",
      "The maximum Value of Malic acid is 4.04\n",
      "The range of min and max value(s) of Malic acid is 2.69\n",
      "The Mean values of Malic acid is 2.010677966101695\n",
      "The Median values of Malic acid is 1.77\n",
      "The Standard Deviation value of Malic acid is 0.6826887630111\n",
      "The Dispersion or Variance value of Malic acid is 0.4660639471416259\n"
     ]
    }
   ],
   "source": [
    "print(\"The minimum Value of Malic acid is\",np.min(malic_acid_1))\n",
    "print(\"The maximum Value of Malic acid is\",np.max(malic_acid_1))\n",
    "print(\"The range of min and max value(s) of Malic acid is\",np.max(malic_acid_1)- np.min(malic_acid_1))\n",
    "print(\"The Mean values of Malic acid is\",st.mean(malic_acid_1))\n",
    "print(\"The Median values of Malic acid is\",st.median(malic_acid_1))\n",
    "print(\"The Standard Deviation value of Malic acid is\",np.std(malic_acid_1))\n",
    "print(\"The Dispersion or Variance value of Malic acid is\",np.var(malic_acid_1))"
   ]
  },
  {
   "cell_type": "code",
   "execution_count": 101,
   "id": "b293af8a",
   "metadata": {},
   "outputs": [
    {
     "data": {
      "text/plain": [
       "{'whiskers': [<matplotlib.lines.Line2D at 0x2290d415430>,\n",
       "  <matplotlib.lines.Line2D at 0x2290d4157c0>],\n",
       " 'caps': [<matplotlib.lines.Line2D at 0x2290d415b50>,\n",
       "  <matplotlib.lines.Line2D at 0x2290d415ee0>],\n",
       " 'boxes': [<matplotlib.lines.Line2D at 0x2290d4150a0>],\n",
       " 'medians': [<matplotlib.lines.Line2D at 0x2290d41c2b0>],\n",
       " 'fliers': [<matplotlib.lines.Line2D at 0x2290d41c5e0>],\n",
       " 'means': []}"
      ]
     },
     "execution_count": 101,
     "metadata": {},
     "output_type": "execute_result"
    },
    {
     "data": {
      "image/png": "[encoded data removed]",
      "text/plain": [
       "<Figure size 432x288 with 1 Axes>"
      ]
     },
     "metadata": {
      "needs_background": "light"
     },
     "output_type": "display_data"
    }
   ],
   "source": [
    "fig1,ax1 = plt.subplots()\n",
    "ax1.set_title('Category 1 Malic acid Boxplot')\n",
    "ax1.boxplot(malic_acid_1)"
   ]
  },
  {
   "cell_type": "markdown",
   "id": "18b363e0",
   "metadata": {},
   "source": [
    "<h3> Category 2 </h3>"
   ]
  },
  {
   "cell_type": "code",
   "execution_count": 102,
   "id": "e023c88d",
   "metadata": {},
   "outputs": [
    {
     "name": "stdout",
     "output_type": "stream",
     "text": [
      "The minimum Value of Malic acid is 0.74\n",
      "The maximum Value of Malic acid is 5.8\n",
      "The range of min and max value(s) of Malic acid is 5.06\n",
      "The Mean values of Malic acid is 1.9468571428571428\n",
      "The Median values of Malic acid is 1.62\n",
      "The Standard Deviation value of Malic acid is 1.0085145269258187\n",
      "The Dispersion or Variance value of Malic acid is 1.017101551020408\n"
     ]
    }
   ],
   "source": [
    "print(\"The minimum Value of Malic acid is\",np.min(malic_acid_2))\n",
    "print(\"The maximum Value of Malic acid is\",np.max(malic_acid_2))\n",
    "print(\"The range of min and max value(s) of Malic acid is\",np.max(malic_acid_2)- np.min(malic_acid_2))\n",
    "print(\"The Mean values of Malic acid is\",st.mean(malic_acid_2))\n",
    "print(\"The Median values of Malic acid is\",st.median(malic_acid_2))\n",
    "print(\"The Standard Deviation value of Malic acid is\",np.std(malic_acid_2))\n",
    "print(\"The Dispersion or Variance value of Malic acid is\",np.var(malic_acid_2))"
   ]
  },
  {
   "cell_type": "code",
   "execution_count": 103,
   "id": "1fc1c9c3",
   "metadata": {},
   "outputs": [
    {
     "data": {
      "text/plain": [
       "{'whiskers': [<matplotlib.lines.Line2D at 0x2290d471dc0>,\n",
       "  <matplotlib.lines.Line2D at 0x2290d483190>],\n",
       " 'caps': [<matplotlib.lines.Line2D at 0x2290d483520>,\n",
       "  <matplotlib.lines.Line2D at 0x2290d4838b0>],\n",
       " 'boxes': [<matplotlib.lines.Line2D at 0x2290d471a30>],\n",
       " 'medians': [<matplotlib.lines.Line2D at 0x2290d483c40>],\n",
       " 'fliers': [<matplotlib.lines.Line2D at 0x2290d483fd0>],\n",
       " 'means': []}"
      ]
     },
     "execution_count": 103,
     "metadata": {},
     "output_type": "execute_result"
    },
    {
     "data": {
      "image/png": "[encoded data removed]",
      "text/plain": [
       "<Figure size 432x288 with 1 Axes>"
      ]
     },
     "metadata": {
      "needs_background": "light"
     },
     "output_type": "display_data"
    }
   ],
   "source": [
    "fig1,ax1 = plt.subplots()\n",
    "ax1.set_title('Category 2 Malic acid Boxplot')\n",
    "ax1.boxplot(malic_acid_2)"
   ]
  },
  {
   "cell_type": "markdown",
   "id": "061187c9",
   "metadata": {},
   "source": [
    "<h3> Category 3 </h3>"
   ]
  },
  {
   "cell_type": "code",
   "execution_count": 104,
   "id": "d42f4830",
   "metadata": {},
   "outputs": [
    {
     "name": "stdout",
     "output_type": "stream",
     "text": [
      "The minimum Value of Malic acid is 1.24\n",
      "The maximum Value of Malic acid is 5.65\n",
      "The range of min and max value(s) of Malic acid is 4.41\n",
      "The Mean values of Malic acid is 3.3759574468085107\n",
      "The Median values of Malic acid is 3.27\n",
      "The Standard Deviation value of Malic acid is 1.047868473910136\n",
      "The Dispersion or Variance value of Malic acid is 1.0980283386147573\n"
     ]
    }
   ],
   "source": [
    "print(\"The minimum Value of Malic acid is\",np.min(malic_acid_3))\n",
    "print(\"The maximum Value of Malic acid is\",np.max(malic_acid_3))\n",
    "print(\"The range of min and max value(s) of Malic acid is\",np.max(malic_acid_3)- np.min(malic_acid_3))\n",
    "print(\"The Mean values of Malic acid is\",st.mean(malic_acid_3))\n",
    "print(\"The Median values of Malic acid is\",st.median(malic_acid_3))\n",
    "print(\"The Standard Deviation value of Malic acid is\",np.std(malic_acid_3))\n",
    "print(\"The Dispersion or Variance value of Malic acid is\",np.var(malic_acid_3))"
   ]
  },
  {
   "cell_type": "code",
   "execution_count": 105,
   "id": "8b7da5c4",
   "metadata": {},
   "outputs": [
    {
     "data": {
      "text/plain": [
       "{'whiskers': [<matplotlib.lines.Line2D at 0x2290d4e2700>,\n",
       "  <matplotlib.lines.Line2D at 0x2290d4e2a90>],\n",
       " 'caps': [<matplotlib.lines.Line2D at 0x2290d4e2e20>,\n",
       "  <matplotlib.lines.Line2D at 0x2290d4ed1f0>],\n",
       " 'boxes': [<matplotlib.lines.Line2D at 0x2290d4e2370>],\n",
       " 'medians': [<matplotlib.lines.Line2D at 0x2290d4ed580>],\n",
       " 'fliers': [<matplotlib.lines.Line2D at 0x2290d4ed910>],\n",
       " 'means': []}"
      ]
     },
     "execution_count": 105,
     "metadata": {},
     "output_type": "execute_result"
    },
    {
     "data": {
      "image/png": "[encoded data removed]",
      "text/plain": [
       "<Figure size 432x288 with 1 Axes>"
      ]
     },
     "metadata": {
      "needs_background": "light"
     },
     "output_type": "display_data"
    }
   ],
   "source": [
    "fig1,ax1 = plt.subplots()\n",
    "ax1.set_title('Category 2 Malic acid Boxplot')\n",
    "ax1.boxplot(malic_acid_3)"
   ]
  },
  {
   "cell_type": "markdown",
   "id": "1823df4b",
   "metadata": {},
   "source": [
    "<h1>Now lets go to do the same for Ash </h1>"
   ]
  },
  {
   "cell_type": "markdown",
   "id": "851c71a8",
   "metadata": {},
   "source": [
    "<h3> Category 1 </h3>"
   ]
  },
  {
   "cell_type": "code",
   "execution_count": 109,
   "id": "66540d86",
   "metadata": {},
   "outputs": [
    {
     "name": "stdout",
     "output_type": "stream",
     "text": [
      "The minimum Value of Ash is 2.04\n",
      "The maximum Value of Ash is 3.22\n",
      "The range of min and max value(s) of Ash is 1.1800000000000002\n",
      "The Mean values of Ash is 2.455593220338983\n",
      "The Median values of Ash is 2.44\n",
      "The Standard Deviation value of Ash is 0.22523261938580777\n",
      "The Dispersion or Variance value of Ash is 0.05072973283539215\n"
     ]
    }
   ],
   "source": [
    "print(\"The minimum Value of Ash is\",np.min(ash_1))\n",
    "print(\"The maximum Value of Ash is\",np.max(ash_1))\n",
    "print(\"The range of min and max value(s) of Ash is\",np.max(ash_1)- np.min(ash_1))\n",
    "print(\"The Mean values of Ash is\",st.mean(ash_1))\n",
    "print(\"The Median values of Ash is\",st.median(ash_1))\n",
    "print(\"The Standard Deviation value of Ash is\",np.std(ash_1))\n",
    "print(\"The Dispersion or Variance value of Ash is\",np.var(ash_1))"
   ]
  },
  {
   "cell_type": "code",
   "execution_count": 110,
   "id": "bdbb3404",
   "metadata": {},
   "outputs": [
    {
     "data": {
      "text/plain": [
       "{'whiskers': [<matplotlib.lines.Line2D at 0x2290d549580>,\n",
       "  <matplotlib.lines.Line2D at 0x2290d549910>],\n",
       " 'caps': [<matplotlib.lines.Line2D at 0x2290d549ca0>,\n",
       "  <matplotlib.lines.Line2D at 0x2290d556070>],\n",
       " 'boxes': [<matplotlib.lines.Line2D at 0x2290d5491f0>],\n",
       " 'medians': [<matplotlib.lines.Line2D at 0x2290d556400>],\n",
       " 'fliers': [<matplotlib.lines.Line2D at 0x2290d556790>],\n",
       " 'means': []}"
      ]
     },
     "execution_count": 110,
     "metadata": {},
     "output_type": "execute_result"
    },
    {
     "data": {
      "image/png": "[encoded data removed]",
      "text/plain": [
       "<Figure size 432x288 with 1 Axes>"
      ]
     },
     "metadata": {
      "needs_background": "light"
     },
     "output_type": "display_data"
    }
   ],
   "source": [
    "fig1,ax1 = plt.subplots()\n",
    "ax1.set_title('Category 1 Ash Boxplot')\n",
    "ax1.boxplot(ash_1)"
   ]
  },
  {
   "cell_type": "markdown",
   "id": "61f727eb",
   "metadata": {},
   "source": [
    "<h3> Category 2 </h3>"
   ]
  },
  {
   "cell_type": "code",
   "execution_count": 112,
   "id": "147c5968",
   "metadata": {},
   "outputs": [
    {
     "name": "stdout",
     "output_type": "stream",
     "text": [
      "The minimum Value of Ash is 1.7\n",
      "The maximum Value of Ash is 3.23\n",
      "The range of min and max value(s) of Ash is 1.53\n",
      "The Mean values of Ash is 2.2574285714285716\n",
      "The Median values of Ash is 2.25\n",
      "The Standard Deviation value of Ash is 0.29694485161046175\n",
      "The Dispersion or Variance value of Ash is 0.08817624489795915\n"
     ]
    }
   ],
   "source": [
    "print(\"The minimum Value of Ash is\",np.min(ash_2))\n",
    "print(\"The maximum Value of Ash is\",np.max(ash_2))\n",
    "print(\"The range of min and max value(s) of Ash is\",np.max(ash_2)- np.min(ash_2))\n",
    "print(\"The Mean values of Ash is\",st.mean(ash_2))\n",
    "print(\"The Median values of Ash is\",st.median(ash_2))\n",
    "print(\"The Standard Deviation value of Ash is\",np.std(ash_2))\n",
    "print(\"The Dispersion or Variance value of Ash is\",np.var(ash_2))"
   ]
  },
  {
   "cell_type": "code",
   "execution_count": 113,
   "id": "f88c3831",
   "metadata": {},
   "outputs": [
    {
     "data": {
      "text/plain": [
       "{'whiskers': [<matplotlib.lines.Line2D at 0x2290d516550>,\n",
       "  <matplotlib.lines.Line2D at 0x2290d5168e0>],\n",
       " 'caps': [<matplotlib.lines.Line2D at 0x2290d516c70>,\n",
       "  <matplotlib.lines.Line2D at 0x2290d5c0040>],\n",
       " 'boxes': [<matplotlib.lines.Line2D at 0x2290d5161c0>],\n",
       " 'medians': [<matplotlib.lines.Line2D at 0x2290d5c03d0>],\n",
       " 'fliers': [<matplotlib.lines.Line2D at 0x2290d5c0760>],\n",
       " 'means': []}"
      ]
     },
     "execution_count": 113,
     "metadata": {},
     "output_type": "execute_result"
    },
    {
     "data": {
      "image/png": "[encoded data removed]",
      "text/plain": [
       "<Figure size 432x288 with 1 Axes>"
      ]
     },
     "metadata": {
      "needs_background": "light"
     },
     "output_type": "display_data"
    }
   ],
   "source": [
    "fig1,ax1 = plt.subplots()\n",
    "ax1.set_title('Category 2 Ash Boxplot')\n",
    "ax1.boxplot(ash_2)"
   ]
  },
  {
   "cell_type": "markdown",
   "id": "92d67b60",
   "metadata": {},
   "source": [
    "<h3> Category 3 </h3>"
   ]
  },
  {
   "cell_type": "code",
   "execution_count": 114,
   "id": "aa8cdb2d",
   "metadata": {},
   "outputs": [
    {
     "name": "stdout",
     "output_type": "stream",
     "text": [
      "The minimum Value of Ash is 2.1\n",
      "The maximum Value of Ash is 2.86\n",
      "The range of min and max value(s) of Ash is 0.7599999999999998\n",
      "The Mean values of Ash is 2.4395744680851066\n",
      "The Median values of Ash is 2.38\n",
      "The Standard Deviation value of Ash is 0.18388198628478059\n",
      "The Dispersion or Variance value of Ash is 0.03381258488003623\n"
     ]
    }
   ],
   "source": [
    "print(\"The minimum Value of Ash is\",np.min(ash_3))\n",
    "print(\"The maximum Value of Ash is\",np.max(ash_3))\n",
    "print(\"The range of min and max value(s) of Ash is\",np.max(ash_3)- np.min(ash_3))\n",
    "print(\"The Mean values of Ash is\",st.mean(ash_3))\n",
    "print(\"The Median values of Ash is\",st.median(ash_3))\n",
    "print(\"The Standard Deviation value of Ash is\",np.std(ash_3))\n",
    "print(\"The Dispersion or Variance value of Ash is\",np.var(ash_3))"
   ]
  },
  {
   "cell_type": "code",
   "execution_count": 117,
   "id": "d17bb98c",
   "metadata": {},
   "outputs": [
    {
     "data": {
      "text/plain": [
       "{'whiskers': [<matplotlib.lines.Line2D at 0x2290d6940a0>,\n",
       "  <matplotlib.lines.Line2D at 0x2290d694430>],\n",
       " 'caps': [<matplotlib.lines.Line2D at 0x2290d6947c0>,\n",
       "  <matplotlib.lines.Line2D at 0x2290d694b50>],\n",
       " 'boxes': [<matplotlib.lines.Line2D at 0x2290d685cd0>],\n",
       " 'medians': [<matplotlib.lines.Line2D at 0x2290d694ee0>],\n",
       " 'fliers': [<matplotlib.lines.Line2D at 0x2290d69d2b0>],\n",
       " 'means': []}"
      ]
     },
     "execution_count": 117,
     "metadata": {},
     "output_type": "execute_result"
    },
    {
     "data": {
      "image/png": "[encoded data removed]",
      "text/plain": [
       "<Figure size 432x288 with 1 Axes>"
      ]
     },
     "metadata": {
      "needs_background": "light"
     },
     "output_type": "display_data"
    }
   ],
   "source": [
    "fig1,ax1 = plt.subplots()\n",
    "ax1.set_title('Category 3 Ash Boxplot')\n",
    "ax1.boxplot(ash_3)"
   ]
  },
  {
   "cell_type": "markdown",
   "id": "85c361b0",
   "metadata": {},
   "source": [
    "<h1>Now lets go to do the same for Alcalinity of ash </h1>"
   ]
  },
  {
   "cell_type": "markdown",
   "id": "43d69042",
   "metadata": {},
   "source": [
    "<h3> Category 1 </h3>"
   ]
  },
  {
   "cell_type": "code",
   "execution_count": 116,
   "id": "d9ed0613",
   "metadata": {},
   "outputs": [
    {
     "name": "stdout",
     "output_type": "stream",
     "text": [
      "The minimum Value of Alcalinity of ash is 11.2\n",
      "The maximum Value of Alcalinity of ash is 25.0\n",
      "The range of min and max value(s) of Alcalinity of ash is 13.8\n",
      "The Mean values of Alcalinity of ash is 17.03728813559322\n",
      "The Median values of Alcalinity of ash is 16.8\n",
      "The Standard Deviation value of Alcalinity of ash is 2.524651229820095\n",
      "The Dispersion or Variance value of Alcalinity of ash is 6.373863832232119\n"
     ]
    }
   ],
   "source": [
    "print(\"The minimum Value of Alcalinity of ash is\",np.min(alcalinity_of_ash_1))\n",
    "print(\"The maximum Value of Alcalinity of ash is\",np.max(alcalinity_of_ash_1))\n",
    "print(\"The range of min and max value(s) of Alcalinity of ash is\",np.max(alcalinity_of_ash_1)- np.min(alcalinity_of_ash_1))\n",
    "print(\"The Mean values of Alcalinity of ash is\",st.mean(alcalinity_of_ash_1))\n",
    "print(\"The Median values of Alcalinity of ash is\",st.median(alcalinity_of_ash_1))\n",
    "print(\"The Standard Deviation value of Alcalinity of ash is\",np.std(alcalinity_of_ash_1))\n",
    "print(\"The Dispersion or Variance value of Alcalinity of ash is\",np.var(alcalinity_of_ash_1))"
   ]
  },
  {
   "cell_type": "code",
   "execution_count": 118,
   "id": "219c61e3",
   "metadata": {},
   "outputs": [
    {
     "data": {
      "text/plain": [
       "{'whiskers': [<matplotlib.lines.Line2D at 0x2290ca87940>,\n",
       "  <matplotlib.lines.Line2D at 0x2290ca875e0>],\n",
       " 'caps': [<matplotlib.lines.Line2D at 0x2290ca870a0>,\n",
       "  <matplotlib.lines.Line2D at 0x2290d0a9e20>],\n",
       " 'boxes': [<matplotlib.lines.Line2D at 0x2290c384820>],\n",
       " 'medians': [<matplotlib.lines.Line2D at 0x2290d0a9ee0>],\n",
       " 'fliers': [<matplotlib.lines.Line2D at 0x2290d0a9ac0>],\n",
       " 'means': []}"
      ]
     },
     "execution_count": 118,
     "metadata": {},
     "output_type": "execute_result"
    },
    {
     "data": {
      "image/png": "[encoded data removed]",
      "text/plain": [
       "<Figure size 432x288 with 1 Axes>"
      ]
     },
     "metadata": {
      "needs_background": "light"
     },
     "output_type": "display_data"
    }
   ],
   "source": [
    "fig1,ax1 = plt.subplots()\n",
    "ax1.set_title('Category 1 Alcalinity of ash Boxplot')\n",
    "ax1.boxplot(alcalinity_of_ash_1)"
   ]
  },
  {
   "cell_type": "markdown",
   "id": "47e4df60",
   "metadata": {},
   "source": [
    "<h3> Category 2 </h3>"
   ]
  },
  {
   "cell_type": "code",
   "execution_count": 119,
   "id": "3a172b3e",
   "metadata": {},
   "outputs": [
    {
     "name": "stdout",
     "output_type": "stream",
     "text": [
      "The minimum Value of Alcalinity of ash is 14.8\n",
      "The maximum Value of Alcalinity of ash is 30.0\n",
      "The range of min and max value(s) of Alcalinity of ash is 15.2\n",
      "The Mean values of Alcalinity of ash is 20.375714285714285\n",
      "The Median values of Alcalinity of ash is 20.0\n",
      "The Standard Deviation value of Alcalinity of ash is 3.1424483500374443\n",
      "The Dispersion or Variance value of Alcalinity of ash is 9.874981632653057\n"
     ]
    }
   ],
   "source": [
    "print(\"The minimum Value of Alcalinity of ash is\",np.min(alcalinity_of_ash_2))\n",
    "print(\"The maximum Value of Alcalinity of ash is\",np.max(alcalinity_of_ash_2))\n",
    "print(\"The range of min and max value(s) of Alcalinity of ash is\",np.max(alcalinity_of_ash_2)- np.min(alcalinity_of_ash_2))\n",
    "print(\"The Mean values of Alcalinity of ash is\",st.mean(alcalinity_of_ash_2))\n",
    "print(\"The Median values of Alcalinity of ash is\",st.median(alcalinity_of_ash_2))\n",
    "print(\"The Standard Deviation value of Alcalinity of ash is\",np.std(alcalinity_of_ash_2))\n",
    "print(\"The Dispersion or Variance value of Alcalinity of ash is\",np.var(alcalinity_of_ash_2))"
   ]
  },
  {
   "cell_type": "code",
   "execution_count": 120,
   "id": "0f202be0",
   "metadata": {},
   "outputs": [
    {
     "data": {
      "text/plain": [
       "{'whiskers': [<matplotlib.lines.Line2D at 0x2290d6d17c0>,\n",
       "  <matplotlib.lines.Line2D at 0x2290d6d1af0>],\n",
       " 'caps': [<matplotlib.lines.Line2D at 0x2290d6d1d90>,\n",
       "  <matplotlib.lines.Line2D at 0x2290cf6a130>],\n",
       " 'boxes': [<matplotlib.lines.Line2D at 0x229711e66a0>],\n",
       " 'medians': [<matplotlib.lines.Line2D at 0x2290cf6a4c0>],\n",
       " 'fliers': [<matplotlib.lines.Line2D at 0x2290cf6a850>],\n",
       " 'means': []}"
      ]
     },
     "execution_count": 120,
     "metadata": {},
     "output_type": "execute_result"
    },
    {
     "data": {
      "image/png": "[encoded data removed]",
      "text/plain": [
       "<Figure size 432x288 with 1 Axes>"
      ]
     },
     "metadata": {
      "needs_background": "light"
     },
     "output_type": "display_data"
    }
   ],
   "source": [
    "fig1,ax1 = plt.subplots()\n",
    "ax1.set_title('Category 2 Alcalinity of ash Boxplot')\n",
    "ax1.boxplot(alcalinity_of_ash_2)"
   ]
  },
  {
   "cell_type": "markdown",
   "id": "f6967ac3",
   "metadata": {},
   "source": [
    "<h3> Category 3 </h3>"
   ]
  },
  {
   "cell_type": "code",
   "execution_count": 121,
   "id": "a4e968a1",
   "metadata": {},
   "outputs": [
    {
     "name": "stdout",
     "output_type": "stream",
     "text": [
      "The minimum Value of Alcalinity of ash is 17.5\n",
      "The maximum Value of Alcalinity of ash is 27.0\n",
      "The range of min and max value(s) of Alcalinity of ash is 9.5\n",
      "The Mean values of Alcalinity of ash is 21.48936170212766\n",
      "The Median values of Alcalinity of ash is 21.0\n",
      "The Standard Deviation value of Alcalinity of ash is 2.2012795159791594\n",
      "The Dispersion or Variance value of Alcalinity of ash is 4.8456315074694425\n"
     ]
    }
   ],
   "source": [
    "print(\"The minimum Value of Alcalinity of ash is\",np.min(alcalinity_of_ash_3))\n",
    "print(\"The maximum Value of Alcalinity of ash is\",np.max(alcalinity_of_ash_3))\n",
    "print(\"The range of min and max value(s) of Alcalinity of ash is\",np.max(alcalinity_of_ash_3)- np.min(alcalinity_of_ash_3))\n",
    "print(\"The Mean values of Alcalinity of ash is\",st.mean(alcalinity_of_ash_3))\n",
    "print(\"The Median values of Alcalinity of ash is\",st.median(alcalinity_of_ash_3))\n",
    "print(\"The Standard Deviation value of Alcalinity of ash is\",np.std(alcalinity_of_ash_3))\n",
    "print(\"The Dispersion or Variance value of Alcalinity of ash is\",np.var(alcalinity_of_ash_3))"
   ]
  },
  {
   "cell_type": "code",
   "execution_count": 122,
   "id": "a4a4bf76",
   "metadata": {},
   "outputs": [
    {
     "data": {
      "text/plain": [
       "{'whiskers': [<matplotlib.lines.Line2D at 0x2290d710c40>,\n",
       "  <matplotlib.lines.Line2D at 0x2290d710fa0>],\n",
       " 'caps': [<matplotlib.lines.Line2D at 0x2290d720370>,\n",
       "  <matplotlib.lines.Line2D at 0x2290d720700>],\n",
       " 'boxes': [<matplotlib.lines.Line2D at 0x2290d7108b0>],\n",
       " 'medians': [<matplotlib.lines.Line2D at 0x2290d720a90>],\n",
       " 'fliers': [<matplotlib.lines.Line2D at 0x2290d720e20>],\n",
       " 'means': []}"
      ]
     },
     "execution_count": 122,
     "metadata": {},
     "output_type": "execute_result"
    },
    {
     "data": {
      "image/png": "[encoded data removed]",
      "text/plain": [
       "<Figure size 432x288 with 1 Axes>"
      ]
     },
     "metadata": {
      "needs_background": "light"
     },
     "output_type": "display_data"
    }
   ],
   "source": [
    "fig1,ax1 = plt.subplots()\n",
    "ax1.set_title('Category 3 Alcalinity of ash Boxplot')\n",
    "ax1.boxplot(alcalinity_of_ash_3)"
   ]
  },
  {
   "cell_type": "markdown",
   "id": "4d49af02",
   "metadata": {},
   "source": [
    "<h1> 5. Scale data into [0, 1] range <h1>"
   ]
  },
  {
   "cell_type": "code",
   "execution_count": 132,
   "id": "3492f2e3",
   "metadata": {},
   "outputs": [
    {
     "data": {
      "text/plain": [
       "array([[0.6969697 , 0.133829  ],\n",
       "       [0.17676768, 0.1598513 ],\n",
       "       [0.15656566, 0.37546468],\n",
       "       [0.76767677, 0.22304833],\n",
       "       [0.1969697 , 0.46096654],\n",
       "       [0.68181818, 0.15241636],\n",
       "       [0.77777778, 0.19330855],\n",
       "       [0.61111111, 0.29739777],\n",
       "       [1.        , 0.10780669],\n",
       "       [0.51010101, 0.        ],\n",
       "       [0.63131313, 0.30111524],\n",
       "       [0.64141414, 0.04832714],\n",
       "       [0.45454545, 0.14126394],\n",
       "       [0.95959596, 0.14126394],\n",
       "       [0.77272727, 0.19330855],\n",
       "       [0.39393939, 0.17100372],\n",
       "       [0.73232323, 0.21189591],\n",
       "       [0.49494949, 0.08178439],\n",
       "       [0.67676768, 0.08921933],\n",
       "       [0.3989899 , 0.65055762],\n",
       "       [0.61111111, 0.10408922],\n",
       "       [0.04040404, 0.91078067],\n",
       "       [0.43434343, 0.18959108],\n",
       "       [0.        , 0.0929368 ],\n",
       "       [0.32828283, 0.17100372],\n",
       "       [0.1010101 , 0.26022305],\n",
       "       [0.27272727, 0.15613383],\n",
       "       [0.22727273, 0.13754647],\n",
       "       [0.51515152, 0.20446097],\n",
       "       [0.59090909, 0.12267658],\n",
       "       [0.44444444, 0.05576208],\n",
       "       [0.36868687, 0.11524164],\n",
       "       [0.41919192, 0.17843866],\n",
       "       [0.45959596, 0.0669145 ],\n",
       "       [0.33333333, 0.16728625],\n",
       "       [0.31818182, 0.17100372],\n",
       "       [0.21717172, 0.10780669],\n",
       "       [0.1010101 , 0.11152416],\n",
       "       [0.11111111, 0.05576208],\n",
       "       [0.69191919, 0.98141264],\n",
       "       [0.35858586, 0.133829  ],\n",
       "       [0.28282828, 0.92565056],\n",
       "       [0.52020202, 0.20074349],\n",
       "       [0.1969697 , 0.97769517],\n",
       "       [0.1010101 , 0.15613383],\n",
       "       [0.68686869, 1.        ],\n",
       "       [0.77272727, 0.83271375],\n",
       "       [0.53030303, 0.12267658],\n",
       "       [0.63131313, 0.24907063],\n",
       "       [0.55050505, 0.14126394],\n",
       "       [0.1010101 , 0.14126394],\n",
       "       [0.49494949, 0.11152416],\n",
       "       [0.48989899, 0.14869888],\n",
       "       [0.46464646, 0.20446097],\n",
       "       [0.44949495, 0.11895911],\n",
       "       [0.35858586, 0.14126394],\n",
       "       [0.69191919, 0.13011152],\n",
       "       [0.22222222, 0.23048327],\n",
       "       [0.43939394, 0.02973978]])"
      ]
     },
     "execution_count": 132,
     "metadata": {},
     "output_type": "execute_result"
    }
   ],
   "source": [
    "from sklearn import preprocessing\n",
    "min_max_scaler = preprocessing.MinMaxScaler()\n",
    "A_minmax_1 = min_max_scaler.fit_transform(cat1_data[['Alcohol','Malic acid']]) # it could be all the data..."
   ]
  },
  {
   "cell_type": "markdown",
   "id": "347b617b",
   "metadata": {},
   "source": [
    "<h1> Split data into a training (70%) and a test set (30%). <h1>"
   ]
  },
  {
   "cell_type": "code",
   "execution_count": 151,
   "id": "05729d3e",
   "metadata": {},
   "outputs": [],
   "source": [
    "X = cat1_data[['Alcohol','Malic acid']]\n",
    "y = cat1_data[['Ash','Alcalinity of ash']]\n",
    "\n",
    "from sklearn.model_selection import train_test_split\n",
    "X_train ,X_test , y_train , y_test = train_test_split(X,y,test_size=0.2,random_state=5)#random state = value gia na min allazei to randomness sta Split"
   ]
  },
  {
   "cell_type": "markdown",
   "id": "2c6c3f16",
   "metadata": {},
   "source": [
    "<h3> and little training to our model will not be bad </h3>"
   ]
  },
  {
   "cell_type": "code",
   "execution_count": 152,
   "id": "164a2e5b",
   "metadata": {},
   "outputs": [
    {
     "data": {
      "text/plain": [
       "-0.2636626058781737"
      ]
     },
     "execution_count": 152,
     "metadata": {},
     "output_type": "execute_result"
    }
   ],
   "source": [
    "from sklearn.linear_model import LinearRegression\n",
    "\n",
    "clc = LinearRegression()\n",
    "clc.fit(X_train,y_train)\n",
    "\n",
    "clc.predict(X_test)\n",
    "clc.score(X_test,y_test)"
   ]
  }
 ],
 "metadata": {
  "kernelspec": {
   "display_name": "Python 3 (ipykernel)",
   "language": "python",
   "name": "python3"
  },
  "language_info": {
   "codemirror_mode": {
    "name": "ipython",
    "version": 3
   },
   "file_extension": ".py",
   "mimetype": "text/x-python",
   "name": "python",
   "nbconvert_exporter": "python",
   "pygments_lexer": "ipython3",
   "version": "3.9.7"
  }
 },
 "nbformat": 4,
 "nbformat_minor": 5
}
